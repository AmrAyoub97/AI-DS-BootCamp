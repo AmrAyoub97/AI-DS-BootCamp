{
  "nbformat": 4,
  "nbformat_minor": 0,
  "metadata": {
    "colab": {
      "name": "Amr_Ayoub.ipynb",
      "provenance": [],
      "collapsed_sections": []
    },
    "kernelspec": {
      "name": "python3",
      "display_name": "Python 3"
    }
  },
  "cells": [
    {
      "cell_type": "code",
      "metadata": {
        "id": "jql-inAwlBKs",
        "colab_type": "code",
        "colab": {}
      },
      "source": [
        "import numpy as np # linear algebra\n",
        "import pandas as pd # data processing, CSV file I/O (e.g. pd.read_csv)\n",
        "import seaborn as sns\n",
        "import matplotlib.pyplot as plt"
      ],
      "execution_count": 0,
      "outputs": []
    },
    {
      "cell_type": "code",
      "metadata": {
        "id": "Oy6q8VZjlLTf",
        "colab_type": "code",
        "colab": {}
      },
      "source": [
        "listings_basic = pd.read_csv('http://data.insideairbnb.com/germany/be/berlin/2018-11-07/visualisations/listings.csv')"
      ],
      "execution_count": 0,
      "outputs": []
    },
    {
      "cell_type": "code",
      "metadata": {
        "id": "QpKIAcrDlQS1",
        "colab_type": "code",
        "colab": {}
      },
      "source": [
        "calendar = pd.read_csv('http://data.insideairbnb.com/germany/be/berlin/2018-11-07/data/calendar.csv.gz', compression='gzip')"
      ],
      "execution_count": 0,
      "outputs": []
    },
    {
      "cell_type": "code",
      "metadata": {
        "id": "hXxxjUTolTCB",
        "colab_type": "code",
        "colab": {}
      },
      "source": [
        "#H1,H2\n",
        "H1_data = listings_basic['neighbourhood'].value_counts().index[:10]\n",
        "filtered_data = listings_basic[listings_basic['neighbourhood'].isin(H1_data)]\n",
        "\n",
        "avg_prices = H1_data.price.mean()\n",
        "global_price = listings_basic.price.mean()\n",
        "\n",
        "print (\" avg prices of top 10 ::\" , avg_prices)\n",
        "print (\"avg global price of top 10 ::\" ,global_price)"
      ],
      "execution_count": 0,
      "outputs": []
    },
    {
      "cell_type": "code",
      "metadata": {
        "id": "DwhJfyMvmF5g",
        "colab_type": "code",
        "colab": {}
      },
      "source": [
        "#H3\n",
        "\n",
        "H3_data = listings_basic.drop_duplicates(subset =[\"host_id\"])\n",
        "filtered_data = H3_data[H3_data.calculated_host_listings_count>1]\n",
        "\n",
        "avg_prices = filtered_data.price.mean()\n",
        "global_price = listings_basic.price.mean()\n",
        "\n",
        "print (\"avg prices ::\" , avg_prices)\n",
        "print (\"avg global price ::\" ,global_price)"
      ],
      "execution_count": 0,
      "outputs": []
    },
    {
      "cell_type": "code",
      "metadata": {
        "id": "_9NJmOyfmcJC",
        "colab_type": "code",
        "colab": {}
      },
      "source": [
        "#H4\n",
        "H4_data = listings_basic[listings_basic.availability_365 == 0]\n",
        "\n",
        "avg_prices = H4_data.price.mean()\n",
        "global_price = listings_basic.price.mean()\n",
        "\n",
        "print (\"avg prices::\" , avg_prices)\n",
        "print (\"avg global price ::\" ,global_price)"
      ],
      "execution_count": 0,
      "outputs": []
    },
    {
      "cell_type": "code",
      "metadata": {
        "id": "MBwaOSXcmnOz",
        "colab_type": "code",
        "colab": {}
      },
      "source": [
        "#H5\n",
        "avg_prices = listings_basic.groupby('neighbourhood_group').price.std()\n",
        "global_price = listings_basic.price.std()\n",
        "\n",
        "print (\"avg prices ::\" , avg_prices)\n",
        "print (\"avg global price ::\" ,global_price)"
      ],
      "execution_count": 0,
      "outputs": []
    },
    {
      "cell_type": "code",
      "metadata": {
        "id": "P__5EMqwmxUc",
        "colab_type": "code",
        "colab": {}
      },
      "source": [
        "#H6\n",
        "h6_data = listings_basic[(listings_basic.price%5==0) | (listings_basic.price%10 == 0) | (listings_basic.price%10 == 4) | (listings_basic.price%10 == 9)]\n",
        "\n",
        "avg_prices = h6_data.price.mean()\n",
        "global_price = listings_basic.price.mean()\n",
        "\n",
        "print (\"avg prices of top 10 ::\" , avg_prices)\n",
        "print (\"avg global price of top 10 ::\" ,global_price)"
      ],
      "execution_count": 0,
      "outputs": []
    },
    {
      "cell_type": "code",
      "metadata": {
        "id": "IgO9M77jm4G6",
        "colab_type": "code",
        "colab": {}
      },
      "source": [
        "#H7\n",
        "print((listings_basic.groupby(['host_id']).neighbourhood.nunique()>1).sum())"
      ],
      "execution_count": 0,
      "outputs": []
    }
  ]
}